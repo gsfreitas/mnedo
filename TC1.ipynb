{
  "nbformat": 4,
  "nbformat_minor": 0,
  "metadata": {
    "colab": {
      "name": "TC1",
      "provenance": [],
      "authorship_tag": "ABX9TyOcNuJILzazpzJQMETzKc39",
      "include_colab_link": true
    },
    "kernelspec": {
      "name": "python3",
      "display_name": "Python 3"
    },
    "language_info": {
      "name": "python"
    }
  },
  "cells": [
    {
      "cell_type": "markdown",
      "metadata": {
        "id": "view-in-github",
        "colab_type": "text"
      },
      "source": [
        "<a href=\"https://colab.research.google.com/github/gsfreitas/mnedo/blob/main/TC1.ipynb\" target=\"_parent\"><img src=\"https://colab.research.google.com/assets/colab-badge.svg\" alt=\"Open In Colab\"/></a>"
      ]
    },
    {
      "cell_type": "code",
      "metadata": {
        "colab": {
          "base_uri": "https://localhost:8080/"
        },
        "id": "B_fd0wAsjK-0",
        "outputId": "0acb9aaf-ba17-488c-9d31-c0e8572c594b"
      },
      "source": [
        "# EXERCÍCIO 1\n",
        "\n",
        "import numpy as np\n",
        "\n",
        "n = 40 # número de pontos\n",
        "h = 0.01 # passo\n",
        "\n",
        "x = np.zeros(n+1,dtype=float)\n",
        "y = np.zeros(n+1,dtype=float)\n",
        "\n",
        "# PVI\n",
        "x[0] = 0\n",
        "y[0] = 1\n",
        "\n",
        "# Iterações\n",
        "for k in range(0,n):\n",
        "  y[k+1] = y[k] + h*y[k]\n",
        "\n",
        "print('y[0.4] =', y[n])"
      ],
      "execution_count": null,
      "outputs": [
        {
          "output_type": "stream",
          "name": "stdout",
          "text": [
            "y[0.4] = 1.4888637335882209\n"
          ]
        }
      ]
    },
    {
      "cell_type": "code",
      "metadata": {
        "colab": {
          "base_uri": "https://localhost:8080/"
        },
        "id": "8SMMSReAoUcS",
        "outputId": "26453101-ac19-4844-e800-3884f4cd8eb9"
      },
      "source": [
        "# EXERCÍCIO 2\n",
        "\n",
        "import numpy as np\n",
        "\n",
        "n = 5 # número de pontos\n",
        "h = 0.2 # passo\n",
        "\n",
        "x = np.zeros(n+1,dtype=float)\n",
        "y = np.zeros(n+1,dtype=float)\n",
        "\n",
        "def f(x):\n",
        "  y = 4*pow(x,3)\n",
        "  return y\n",
        "\n",
        "# PVI\n",
        "x[0] = 0\n",
        "y[0] = 0\n",
        "\n",
        "# Iterações\n",
        "for k in range(0,n):\n",
        "  y[k+1] = y[k] + h*f(x[k])\n",
        "  x[k+1] = x[k] + h\n",
        "\n",
        "print('y[1] =', y[n])"
      ],
      "execution_count": null,
      "outputs": [
        {
          "output_type": "stream",
          "name": "stdout",
          "text": [
            "y[1] = 0.6400000000000002\n"
          ]
        }
      ]
    },
    {
      "cell_type": "code",
      "metadata": {
        "id": "Nwv4JQOK0xRZ",
        "colab": {
          "base_uri": "https://localhost:8080/"
        },
        "outputId": "33769f8d-ff27-46a0-cb51-8e3ec7ccf536"
      },
      "source": [
        "# EXERCÍCIO 3\n",
        "\n",
        "import numpy as np\n",
        "\n",
        "# para h = 0.1\n",
        "n = 21 # número de pontos\n",
        "h = 0.1 # passo\n",
        "\n",
        "x = np.zeros(n+1, dtype=float)\n",
        "y = np.zeros(n+1, dtype=float)\n",
        "\n",
        "# PVI\n",
        "y[0] = 2\n",
        "x[0] = 2\n",
        "\n",
        "def f(x,y):\n",
        "  w = 1-(y/x)\n",
        "  return w\n",
        "\n",
        "# Iterações\n",
        "for k in range(0,n):\n",
        "  y[k+1] = y[k] + h*f(x[k],y[k])\n",
        "  x[k+1] = x[k] + h\n",
        "\n",
        "print('y[2.1] para h = 0.1:', y[n])\n",
        "\n",
        "#############################\n",
        "\n",
        "# para h = 0.01\n",
        "n = 210 # número de pontos\n",
        "h = 0.01\n",
        "\n",
        "x = np.zeros(n+1, dtype=float)\n",
        "y = np.zeros(n+1, dtype=float)\n",
        "\n",
        "# PVI\n",
        "y[0] = 2\n",
        "x[0] = 2\n",
        "\n",
        "# Iterações\n",
        "for k in range(0,n):\n",
        "  y[k+1] = y[k] + h*f(x[k],y[k])\n",
        "  x[k+1] = x[k] + h\n",
        "\n",
        "print('y[2.1] para h = 0.01:', y[n])\n",
        "\n",
        "#############################\n",
        "\n",
        "# para h = 0.025\n",
        "n = 84 # número de pontos\n",
        "h = 0.025 # passo\n",
        "\n",
        "x = np.zeros(n+1, dtype=float)\n",
        "y = np.zeros(n+1, dtype=float)\n",
        "\n",
        "# PVI\n",
        "y[0] = 2\n",
        "x[0] = 2\n",
        "\n",
        "# Iterações\n",
        "for k in range(0,n):\n",
        "  y[k+1] = y[k] + h*f(x[k], y[k])\n",
        "  x[k+1] = x[k] + h\n",
        "\n",
        "print('y[2.1] para h = 0.025:', y[n])"
      ],
      "execution_count": null,
      "outputs": [
        {
          "output_type": "stream",
          "name": "stdout",
          "text": [
            "y[2.1] para h = 0.1: 2.525000000000001\n",
            "y[2.1] para h = 0.01: 2.5365525672371527\n",
            "y[2.1] para h = 0.025: 2.5346625766871154\n"
          ]
        }
      ]
    },
    {
      "cell_type": "code",
      "metadata": {
        "colab": {
          "base_uri": "https://localhost:8080/"
        },
        "id": "EgyZ2HzfagDx",
        "outputId": "edfeb37d-e7e6-4437-88a3-c0e53bae4b28"
      },
      "source": [
        "# EXERCÍCIO 4\n",
        "\n",
        "# MÉTODO DE EULER \n",
        "\n",
        "print('MÉTODO DE EULER')\n",
        "# h = 0.5\n",
        "n = 2 # número de pontos\n",
        "h = 0.5 # passo\n",
        "\n",
        "x = np.zeros(n+1, dtype=float)\n",
        "y = np.zeros(n+1, dtype=float)\n",
        "\n",
        "x[0] = 0\n",
        "y[0] = 1000\n",
        "\n",
        "# Iterações\n",
        "for k in range(0,n):\n",
        "  y[k+1] = y[k] + h*0.04*y[k]\n",
        "\n",
        "print('y[1] para h = 0.5:', y[n])\n",
        "\n",
        "# h = 0.25\n",
        "n = 4 # número de pontos\n",
        "h = 0.25\n",
        "\n",
        "x = np.zeros(n+1, dtype=float)\n",
        "y = np.zeros(n+1, dtype=float)\n",
        "\n",
        "x[0] = 0\n",
        "y[0] = 1000\n",
        "\n",
        "# Iterações\n",
        "for k in range(0,n):\n",
        "  y[k+1] = y[k] + h*0.04*y[k]\n",
        "\n",
        "print('y[1] para h = 0.25:', y[n])\n",
        "\n",
        "# h = 0.1\n",
        "n = 10 # número de pontos\n",
        "h = 0.1\n",
        "\n",
        "x = np.zeros(n+1, dtype=float)\n",
        "y = np.zeros(n+1, dtype=float)\n",
        "\n",
        "x[0] = 0\n",
        "y[0] = 1000\n",
        "\n",
        "# Iterações\n",
        "for k in range(0,n):\n",
        "  y[k+1] = y[k] + h*0.04*y[k]\n",
        "\n",
        "print('y[1] para h = 0.1:', y[n])\n",
        "print('--'*20)\n",
        "\n",
        "# MÉTODO DE EULER MELHORADO\n",
        "print('\\n')\n",
        "print('MÉTODO DE EULER MELHORADO')\n",
        "\n",
        "# h = 0.5\n",
        "n = 2 # número de pontos\n",
        "h = 0.5 # passo\n",
        "\n",
        "x = np.zeros(n+1, dtype=float)\n",
        "y = np.zeros(n+1, dtype=float)\n",
        "\n",
        "x[0] = 0\n",
        "y[0] = 1000\n",
        "\n",
        "def f(y):\n",
        "  w = 0.04*y\n",
        "  return w\n",
        "\n",
        "# Iterações\n",
        "for k in range(0,n):\n",
        "  y[k+1] = y[k] + (h/2)*(f(y[k])+f(y[k]+h*f(y[k])))\n",
        "\n",
        "print('y[1] para h = 0.5:', y[n])\n",
        "\n",
        "# h = 0.25\n",
        "n = 4 # número de pontos\n",
        "h = 0.25 # passo\n",
        "\n",
        "x = np.zeros(n+1, dtype=float)\n",
        "y = np.zeros(n+1, dtype=float)\n",
        "\n",
        "x[0] = 0\n",
        "y[0] = 1000\n",
        "\n",
        "# Iterações\n",
        "for k in range(0,n):\n",
        "  y[k+1] = y[k] + (h/2)*(f(y[k])+f(y[k]+h*f(y[k])))\n",
        "\n",
        "print('y[1] para h = 0.25:', y[n])\n",
        "\n",
        "# h = 0.1\n",
        "n = 10 # número de pontos\n",
        "h = 0.1 # passo\n",
        "\n",
        "x = np.zeros(n+1, dtype=float)\n",
        "y = np.zeros(n+1, dtype=float)\n",
        "\n",
        "x[0] = 0\n",
        "y[0] = 1000\n",
        "\n",
        "# Iterações\n",
        "for k in range(0,n):\n",
        "  y[k+1] = y[k] + (h/2)*(f(y[k])+f(y[k]+h*f(y[k])))\n",
        "\n",
        "print('y[1] para h = 0.1:', y[n])\n",
        "\n",
        "print('--'*30)\n",
        "print('\\n')\n",
        "\n",
        "print('MÉTODO RUNGE-KUTTA DE ORDEM 4')\n",
        "# h = 0.5\n",
        "n = 2\n",
        "h = 0.5\n",
        "\n",
        "x = np.zeros(n+1, dtype=float)\n",
        "y = np.zeros(n+1, dtype=float)\n",
        "\n",
        "x[0] = 0\n",
        "y[0] = 1000\n",
        "\n",
        "def f(y):\n",
        "  w = 0.04*y\n",
        "  return w\n",
        "\n",
        "# Iterações\n",
        "for k in range(0,n):\n",
        "  k1 = f(y[k])\n",
        "  k2 = f(y[k]+(h*k1/2))\n",
        "  k3 = f(y[k]+(h*k2/2))\n",
        "  k4 = f(y[k]+h*k3)\n",
        "  y[k+1] = y[k]+(h/6)*(k1+2*k2+2*k3+k4)\n",
        "\n",
        "print('y[1] para h = 0.5:', y[n])\n",
        "\n",
        "# h = 0.25\n",
        "n = 4\n",
        "h = 0.25\n",
        "\n",
        "x = np.zeros(n+1, dtype=float)\n",
        "y = np.zeros(n+1, dtype=float)\n",
        "\n",
        "x[0] = 0\n",
        "y[0] = 1000\n",
        "\n",
        "# Iterações\n",
        "for k in range(0,n):\n",
        "  k1 = f(y[k])\n",
        "  k2 = f(y[k]+(h*k1/2))\n",
        "  k3 = f(y[k]+(h*k2/2))\n",
        "  k4 = f(y[k]+h*k3)\n",
        "  y[k+1] = y[k]+(h/6)*(k1+2*k2+2*k3+k4)\n",
        "\n",
        "print('y[1] para h = 0.25:', y[n])\n",
        "\n",
        "# h = 0.1\n",
        "n = 10\n",
        "h = 0.1\n",
        "\n",
        "x = np.zeros(n+1, dtype=float)\n",
        "y = np.zeros(n+1, dtype=float)\n",
        "\n",
        "x[0] = 0\n",
        "y[0] = 1000\n",
        "\n",
        "# Iterações\n",
        "for k in range(0,n):\n",
        "  k1 = f(y[k])\n",
        "  k2 = f(y[k]+(h*k1/2))\n",
        "  k3 = f(y[k]+(h*k2/2))\n",
        "  k4 = f(y[k]+h*k3)\n",
        "  y[k+1] = y[k]+(h/6)*(k1+2*k2+2*k3+k4)\n",
        "\n",
        "print('y[1] para h = 0.1:', y[n])"
      ],
      "execution_count": null,
      "outputs": [
        {
          "output_type": "stream",
          "name": "stdout",
          "text": [
            "MÉTODO DE EULER\n",
            "y[1] para h = 0.5: 1040.4\n",
            "y[1] para h = 0.25: 1040.60401\n",
            "y[1] para h = 0.1: 1040.72773401891\n",
            "----------------------------------------\n",
            "\n",
            "\n",
            "MÉTODO DE EULER MELHORADO\n",
            "y[1] para h = 0.5: 1040.8080400000001\n",
            "y[1] para h = 0.25: 1040.810085502005\n",
            "y[1] para h = 0.1: 1040.810663505105\n",
            "------------------------------------------------------------\n",
            "\n",
            "\n",
            "MÉTODO RUNGE-KUTTA DE ORDEM 4\n",
            "y[1] para h = 0.5: 1040.8107741377955\n",
            "y[1] para h = 0.25: 1040.8107741889476\n",
            "y[1] para h = 0.1: 1040.8107741923\n"
          ]
        }
      ]
    },
    {
      "cell_type": "code",
      "metadata": {
        "colab": {
          "base_uri": "https://localhost:8080/"
        },
        "id": "Kn5xUSHEVGP-",
        "outputId": "94ce6a2a-5644-4606-aadd-8d61104146b2"
      },
      "source": [
        "# EXERCÍCIO 5\n",
        "\n",
        "import numpy as np\n",
        "import math\n",
        "\n",
        "print('MÉTODO DE EULER')\n",
        "# h = 0.2\n",
        "n = 8 # número de pontos\n",
        "h = 0.2 # passo\n",
        "\n",
        "x = np.zeros(n+1, dtype=float)\n",
        "y = np.zeros(n+1, dtype=float)\n",
        "\n",
        "y[1] = 0.5\n",
        "x[0] = 1\n",
        "\n",
        "def f(t):\n",
        "  f = 2*pow(t,2)-t-0.5\n",
        "  return f\n",
        "\n",
        "for k in range(0,n):\n",
        "  y[k+1] = y[k] + h*((f(k+h)-y[k])/h)\n",
        "\n",
        "print('y[1.6] =',y[n])"
      ],
      "execution_count": null,
      "outputs": [
        {
          "output_type": "stream",
          "name": "stdout",
          "text": [
            "MÉTODO DE EULER\n",
            "y[1.6] = 95.98\n"
          ]
        }
      ]
    },
    {
      "cell_type": "code",
      "metadata": {
        "colab": {
          "base_uri": "https://localhost:8080/"
        },
        "id": "zxsuKLSvYCyR",
        "outputId": "01f2ac18-a782-43f0-d267-ea4564d426da"
      },
      "source": [
        "# EXERCÍCIO 6\n",
        "\n",
        "import numpy as np\n",
        "import math\n",
        "\n",
        "print('MÉTODO DE EULER')\n",
        "# h = 0.2\n",
        "n = 130 # número de pontos\n",
        "h = 0.1 # passo\n",
        "k = -0.17328\n",
        "\n",
        "t = np.zeros(n+1, dtype=float)\n",
        "t[0] = \n",
        "\n",
        "for i in range(0,n):\n",
        "  y[i+1] = y[i] + h*(math.exp(-k*t[i]))\n",
        "\n",
        "print('y[13] =', y[n])"
      ],
      "execution_count": null,
      "outputs": [
        {
          "output_type": "stream",
          "name": "stdout",
          "text": [
            "MÉTODO DE EULER\n",
            "y[13] = 3353177.8038685108\n"
          ]
        }
      ]
    },
    {
      "cell_type": "code",
      "metadata": {
        "id": "M6448enAec_O",
        "colab": {
          "base_uri": "https://localhost:8080/"
        },
        "outputId": "e8041946-8195-4703-e879-db575e11fa64"
      },
      "source": [
        "# EXERCÍCIO 6\n",
        "\n",
        "import numpy as np\n",
        "import math\n",
        "\n",
        "print('MÉTODO DE EULER')\n",
        "# h = 0.1\n",
        "n = 90 # número de pontos\n",
        "h = 0.1 # passo\n",
        "\n",
        "x = np.zeros(n+1, dtype=float)\n",
        "y = np.zeros(n+1, dtype=float)\n",
        "\n",
        "k = 0.17328\n",
        "x[0] = 0\n",
        "y[0] = 1\n",
        "\n",
        "def f(t):\n",
        "  c = -0.17328*math.exp(-0.17328*t)\n",
        "  return c\n",
        "\n",
        "# Iterações\n",
        "for k in range(0,n):\n",
        "  y[k+1] = y[k] + h*f(y[k])\n",
        "\n",
        "print('t = ', y[n])"
      ],
      "execution_count": null,
      "outputs": [
        {
          "output_type": "stream",
          "name": "stdout",
          "text": [
            "MÉTODO DE EULER\n",
            "y[4] =  -0.4852656552614246\n"
          ]
        }
      ]
    },
    {
      "cell_type": "code",
      "metadata": {
        "colab": {
          "base_uri": "https://localhost:8080/"
        },
        "id": "sv7MSiDXmWY7",
        "outputId": "b06b6a9c-b2a3-4de1-a8a7-3902b31dd4e1"
      },
      "source": [
        "# EXERCÍCIO 7\n",
        "import numpy as np\n",
        "\n",
        "print('MÉTODO DE EULER')\n",
        "\n",
        "n = 10\n",
        "h = 0.5\n",
        "\n",
        "t = np.zeros(n+1, dtype=float)\n",
        "v = np.zeros(n+1, dtype=float)\n",
        "\n",
        "# PVI\n",
        "t[0] = 0\n",
        "v[0] = 0\n",
        "\n",
        "def f(v,t):\n",
        "  y = (2000-2*v)/(200-t)\n",
        "  return y\n",
        "\n",
        "# Iterações\n",
        "for k in range(0,n):\n",
        "  y[k+1] = y[k] + h*f(v[k], t[k])\n",
        "\n",
        "print('y[5] para h = 0.5:', y[n])\n",
        "\n",
        "print('--'*20)\n",
        "print('\\n')\n",
        "\n",
        "print('MÉTODO RUNGE KUTTA ORDEM 4')\n",
        "\n",
        "for k in range(0,n):\n",
        "  k1 = f(v[k], t[k])\n",
        "  k2 = f(v[k]+(h/2), t[k]+(h*k1/2))\n",
        "  k3 = f(v[k]+(h/2), t[k]+(h*k2/2))\n",
        "  k4 = f(v[k]+h, t[k]+h*k3)\n",
        "  y[k+1] = y[k]+(h/6)*(k1+2*k2+2*k3+k4)\n",
        "\n",
        "print('y[1] para h = 0.5:', y[n])\n",
        "\n",
        "print('\\n')\n",
        "print('--'*20)\n",
        "print('SOLUÇÃO EXATA')\n",
        "\n",
        "v = 10*5 - pow(5,2)/40\n",
        "print('v(t) = 10t - t²/40:', v)\n"
      ],
      "execution_count": null,
      "outputs": [
        {
          "output_type": "stream",
          "name": "stdout",
          "text": [
            "MÉTODO DE EULER\n",
            "y[5] para h = 0.5: 51.0\n",
            "----------------------------------------\n",
            "\n",
            "\n",
            "MÉTODO RUNGE KUTTA ORDEM 4\n",
            "y[1] para h = 0.5: 51.628306777980605\n",
            "\n",
            "\n",
            "----------------------------------------\n",
            "SOLUÇÃO EXATA\n",
            "v(t) = 10t - t²/40: 49.375\n"
          ]
        }
      ]
    },
    {
      "cell_type": "code",
      "metadata": {
        "colab": {
          "base_uri": "https://localhost:8080/"
        },
        "id": "gBHTLQWp_lP_",
        "outputId": "b180b259-1730-422a-a416-04019350caf4"
      },
      "source": [
        "# EXERCÍCIO 8\n",
        "\n",
        "import numpy as np\n",
        "\n",
        "n = 600\n",
        "h = 0.05\n",
        "m = 100000 # população total\n",
        "c = 2*pow(10,-6) # constante\n",
        "\n",
        "y = np.zeros(n+1, dtype=float)\n",
        "\n",
        "y[0] = 1000\n",
        "\n",
        "def f(y):\n",
        "  w = c*(m-y)*y\n",
        "  return w\n",
        "\n",
        "for k in range(0,n):\n",
        "  k1 = f(y[k])\n",
        "  k2 = f(y[k]+(h*k1/2))\n",
        "  k3 = f(y[k]+(h*k2/2))\n",
        "  k4 = f(y[k]+h*k3)\n",
        "  y[k+1] = y[k]+(h/6)*(k1+2*k2+2*k3+k4)\n",
        "\n",
        "print('{0:.0f} pessoas infectadas em 30 dias'.format(y[n]))"
      ],
      "execution_count": null,
      "outputs": [
        {
          "output_type": "stream",
          "name": "stdout",
          "text": [
            "80296 pessoas infectadas em 30 dias\n"
          ]
        }
      ]
    },
    {
      "cell_type": "code",
      "metadata": {
        "id": "HGuP27TZIStP"
      },
      "source": [
        ""
      ],
      "execution_count": null,
      "outputs": []
    }
  ]
}